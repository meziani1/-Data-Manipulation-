{
 "cells": [
  {
   "cell_type": "markdown",
   "id": "c8dc8c1a",
   "metadata": {
    "papermill": {
     "duration": 0.008503,
     "end_time": "2022-07-27T23:29:42.557308",
     "exception": false,
     "start_time": "2022-07-27T23:29:42.548805",
     "status": "completed"
    },
    "tags": []
   },
   "source": [
    "**This notebook is an exercise in the [Pandas](https://www.kaggle.com/learn/pandas) course.  You can reference the tutorial at [this link](https://www.kaggle.com/residentmario/grouping-and-sorting).**\n",
    "\n",
    "---\n"
   ]
  },
  {
   "cell_type": "markdown",
   "id": "68de589d",
   "metadata": {
    "papermill": {
     "duration": 0.007197,
     "end_time": "2022-07-27T23:29:42.572207",
     "exception": false,
     "start_time": "2022-07-27T23:29:42.565010",
     "status": "completed"
    },
    "tags": []
   },
   "source": [
    "# Introduction\n",
    "\n",
    "In these exercises we'll apply groupwise analysis to our dataset.\n",
    "\n",
    "Run the code cell below to load the data before running the exercises."
   ]
  },
  {
   "cell_type": "code",
   "execution_count": 1,
   "id": "b989d1a7",
   "metadata": {
    "execution": {
     "iopub.execute_input": "2022-07-27T23:29:42.589147Z",
     "iopub.status.busy": "2022-07-27T23:29:42.588737Z",
     "iopub.status.idle": "2022-07-27T23:29:45.639970Z",
     "shell.execute_reply": "2022-07-27T23:29:45.638835Z"
    },
    "papermill": {
     "duration": 3.063374,
     "end_time": "2022-07-27T23:29:45.642975",
     "exception": false,
     "start_time": "2022-07-27T23:29:42.579601",
     "status": "completed"
    },
    "tags": []
   },
   "outputs": [
    {
     "name": "stdout",
     "output_type": "stream",
     "text": [
      "Setup complete.\n"
     ]
    }
   ],
   "source": [
    "import pandas as pd\n",
    "\n",
    "reviews = pd.read_csv(\"../input/wine-reviews/winemag-data-130k-v2.csv\", index_col=0)\n",
    "#pd.set_option(\"display.max_rows\", 5)\n",
    "\n",
    "from learntools.core import binder; binder.bind(globals())\n",
    "from learntools.pandas.grouping_and_sorting import *\n",
    "print(\"Setup complete.\")\n"
   ]
  },
  {
   "cell_type": "code",
   "execution_count": 2,
   "id": "889217ef",
   "metadata": {
    "execution": {
     "iopub.execute_input": "2022-07-27T23:29:45.661013Z",
     "iopub.status.busy": "2022-07-27T23:29:45.660329Z",
     "iopub.status.idle": "2022-07-27T23:29:45.685503Z",
     "shell.execute_reply": "2022-07-27T23:29:45.684336Z"
    },
    "papermill": {
     "duration": 0.037195,
     "end_time": "2022-07-27T23:29:45.688204",
     "exception": false,
     "start_time": "2022-07-27T23:29:45.651009",
     "status": "completed"
    },
    "tags": []
   },
   "outputs": [
    {
     "data": {
      "text/html": [
       "<div>\n",
       "<style scoped>\n",
       "    .dataframe tbody tr th:only-of-type {\n",
       "        vertical-align: middle;\n",
       "    }\n",
       "\n",
       "    .dataframe tbody tr th {\n",
       "        vertical-align: top;\n",
       "    }\n",
       "\n",
       "    .dataframe thead th {\n",
       "        text-align: right;\n",
       "    }\n",
       "</style>\n",
       "<table border=\"1\" class=\"dataframe\">\n",
       "  <thead>\n",
       "    <tr style=\"text-align: right;\">\n",
       "      <th></th>\n",
       "      <th>country</th>\n",
       "      <th>description</th>\n",
       "      <th>designation</th>\n",
       "      <th>points</th>\n",
       "      <th>price</th>\n",
       "      <th>province</th>\n",
       "      <th>region_1</th>\n",
       "      <th>region_2</th>\n",
       "      <th>taster_name</th>\n",
       "      <th>taster_twitter_handle</th>\n",
       "      <th>title</th>\n",
       "      <th>variety</th>\n",
       "      <th>winery</th>\n",
       "    </tr>\n",
       "  </thead>\n",
       "  <tbody>\n",
       "    <tr>\n",
       "      <th>0</th>\n",
       "      <td>Italy</td>\n",
       "      <td>Aromas include tropical fruit, broom, brimston...</td>\n",
       "      <td>Vulkà Bianco</td>\n",
       "      <td>87</td>\n",
       "      <td>NaN</td>\n",
       "      <td>Sicily &amp; Sardinia</td>\n",
       "      <td>Etna</td>\n",
       "      <td>NaN</td>\n",
       "      <td>Kerin O’Keefe</td>\n",
       "      <td>@kerinokeefe</td>\n",
       "      <td>Nicosia 2013 Vulkà Bianco  (Etna)</td>\n",
       "      <td>White Blend</td>\n",
       "      <td>Nicosia</td>\n",
       "    </tr>\n",
       "    <tr>\n",
       "      <th>1</th>\n",
       "      <td>Portugal</td>\n",
       "      <td>This is ripe and fruity, a wine that is smooth...</td>\n",
       "      <td>Avidagos</td>\n",
       "      <td>87</td>\n",
       "      <td>15.0</td>\n",
       "      <td>Douro</td>\n",
       "      <td>NaN</td>\n",
       "      <td>NaN</td>\n",
       "      <td>Roger Voss</td>\n",
       "      <td>@vossroger</td>\n",
       "      <td>Quinta dos Avidagos 2011 Avidagos Red (Douro)</td>\n",
       "      <td>Portuguese Red</td>\n",
       "      <td>Quinta dos Avidagos</td>\n",
       "    </tr>\n",
       "    <tr>\n",
       "      <th>2</th>\n",
       "      <td>US</td>\n",
       "      <td>Tart and snappy, the flavors of lime flesh and...</td>\n",
       "      <td>NaN</td>\n",
       "      <td>87</td>\n",
       "      <td>14.0</td>\n",
       "      <td>Oregon</td>\n",
       "      <td>Willamette Valley</td>\n",
       "      <td>Willamette Valley</td>\n",
       "      <td>Paul Gregutt</td>\n",
       "      <td>@paulgwine</td>\n",
       "      <td>Rainstorm 2013 Pinot Gris (Willamette Valley)</td>\n",
       "      <td>Pinot Gris</td>\n",
       "      <td>Rainstorm</td>\n",
       "    </tr>\n",
       "    <tr>\n",
       "      <th>3</th>\n",
       "      <td>US</td>\n",
       "      <td>Pineapple rind, lemon pith and orange blossom ...</td>\n",
       "      <td>Reserve Late Harvest</td>\n",
       "      <td>87</td>\n",
       "      <td>13.0</td>\n",
       "      <td>Michigan</td>\n",
       "      <td>Lake Michigan Shore</td>\n",
       "      <td>NaN</td>\n",
       "      <td>Alexander Peartree</td>\n",
       "      <td>NaN</td>\n",
       "      <td>St. Julian 2013 Reserve Late Harvest Riesling ...</td>\n",
       "      <td>Riesling</td>\n",
       "      <td>St. Julian</td>\n",
       "    </tr>\n",
       "    <tr>\n",
       "      <th>4</th>\n",
       "      <td>US</td>\n",
       "      <td>Much like the regular bottling from 2012, this...</td>\n",
       "      <td>Vintner's Reserve Wild Child Block</td>\n",
       "      <td>87</td>\n",
       "      <td>65.0</td>\n",
       "      <td>Oregon</td>\n",
       "      <td>Willamette Valley</td>\n",
       "      <td>Willamette Valley</td>\n",
       "      <td>Paul Gregutt</td>\n",
       "      <td>@paulgwine</td>\n",
       "      <td>Sweet Cheeks 2012 Vintner's Reserve Wild Child...</td>\n",
       "      <td>Pinot Noir</td>\n",
       "      <td>Sweet Cheeks</td>\n",
       "    </tr>\n",
       "  </tbody>\n",
       "</table>\n",
       "</div>"
      ],
      "text/plain": [
       "    country                                        description  \\\n",
       "0     Italy  Aromas include tropical fruit, broom, brimston...   \n",
       "1  Portugal  This is ripe and fruity, a wine that is smooth...   \n",
       "2        US  Tart and snappy, the flavors of lime flesh and...   \n",
       "3        US  Pineapple rind, lemon pith and orange blossom ...   \n",
       "4        US  Much like the regular bottling from 2012, this...   \n",
       "\n",
       "                          designation  points  price           province  \\\n",
       "0                        Vulkà Bianco      87    NaN  Sicily & Sardinia   \n",
       "1                            Avidagos      87   15.0              Douro   \n",
       "2                                 NaN      87   14.0             Oregon   \n",
       "3                Reserve Late Harvest      87   13.0           Michigan   \n",
       "4  Vintner's Reserve Wild Child Block      87   65.0             Oregon   \n",
       "\n",
       "              region_1           region_2         taster_name  \\\n",
       "0                 Etna                NaN       Kerin O’Keefe   \n",
       "1                  NaN                NaN          Roger Voss   \n",
       "2    Willamette Valley  Willamette Valley        Paul Gregutt   \n",
       "3  Lake Michigan Shore                NaN  Alexander Peartree   \n",
       "4    Willamette Valley  Willamette Valley        Paul Gregutt   \n",
       "\n",
       "  taster_twitter_handle                                              title  \\\n",
       "0          @kerinokeefe                  Nicosia 2013 Vulkà Bianco  (Etna)   \n",
       "1            @vossroger      Quinta dos Avidagos 2011 Avidagos Red (Douro)   \n",
       "2           @paulgwine       Rainstorm 2013 Pinot Gris (Willamette Valley)   \n",
       "3                   NaN  St. Julian 2013 Reserve Late Harvest Riesling ...   \n",
       "4           @paulgwine   Sweet Cheeks 2012 Vintner's Reserve Wild Child...   \n",
       "\n",
       "          variety               winery  \n",
       "0     White Blend              Nicosia  \n",
       "1  Portuguese Red  Quinta dos Avidagos  \n",
       "2      Pinot Gris            Rainstorm  \n",
       "3        Riesling           St. Julian  \n",
       "4      Pinot Noir         Sweet Cheeks  "
      ]
     },
     "execution_count": 2,
     "metadata": {},
     "output_type": "execute_result"
    }
   ],
   "source": [
    "reviews.head()"
   ]
  },
  {
   "cell_type": "code",
   "execution_count": 3,
   "id": "e0bf55e3",
   "metadata": {
    "execution": {
     "iopub.execute_input": "2022-07-27T23:29:45.706931Z",
     "iopub.status.busy": "2022-07-27T23:29:45.706256Z",
     "iopub.status.idle": "2022-07-27T23:29:45.750841Z",
     "shell.execute_reply": "2022-07-27T23:29:45.749537Z"
    },
    "papermill": {
     "duration": 0.056526,
     "end_time": "2022-07-27T23:29:45.753233",
     "exception": false,
     "start_time": "2022-07-27T23:29:45.696707",
     "status": "completed"
    },
    "tags": []
   },
   "outputs": [
    {
     "data": {
      "text/html": [
       "<div>\n",
       "<style scoped>\n",
       "    .dataframe tbody tr th:only-of-type {\n",
       "        vertical-align: middle;\n",
       "    }\n",
       "\n",
       "    .dataframe tbody tr th {\n",
       "        vertical-align: top;\n",
       "    }\n",
       "\n",
       "    .dataframe thead th {\n",
       "        text-align: right;\n",
       "    }\n",
       "</style>\n",
       "<table border=\"1\" class=\"dataframe\">\n",
       "  <thead>\n",
       "    <tr style=\"text-align: right;\">\n",
       "      <th></th>\n",
       "      <th>country</th>\n",
       "      <th>description</th>\n",
       "      <th>designation</th>\n",
       "      <th>points</th>\n",
       "      <th>price</th>\n",
       "      <th>province</th>\n",
       "      <th>region_1</th>\n",
       "      <th>region_2</th>\n",
       "      <th>taster_name</th>\n",
       "      <th>taster_twitter_handle</th>\n",
       "      <th>title</th>\n",
       "      <th>variety</th>\n",
       "      <th>winery</th>\n",
       "    </tr>\n",
       "  </thead>\n",
       "  <tbody>\n",
       "    <tr>\n",
       "      <th>0</th>\n",
       "      <td>Italy</td>\n",
       "      <td>Aromas include tropical fruit, broom, brimston...</td>\n",
       "      <td>Vulkà Bianco</td>\n",
       "      <td>87</td>\n",
       "      <td>NaN</td>\n",
       "      <td>Sicily &amp; Sardinia</td>\n",
       "      <td>Etna</td>\n",
       "      <td>NaN</td>\n",
       "      <td>Kerin O’Keefe</td>\n",
       "      <td>@kerinokeefe</td>\n",
       "      <td>Nicosia 2013 Vulkà Bianco  (Etna)</td>\n",
       "      <td>White Blend</td>\n",
       "      <td>Nicosia</td>\n",
       "    </tr>\n",
       "    <tr>\n",
       "      <th>1</th>\n",
       "      <td>Portugal</td>\n",
       "      <td>This is ripe and fruity, a wine that is smooth...</td>\n",
       "      <td>Avidagos</td>\n",
       "      <td>87</td>\n",
       "      <td>15.0</td>\n",
       "      <td>Douro</td>\n",
       "      <td>NaN</td>\n",
       "      <td>NaN</td>\n",
       "      <td>Roger Voss</td>\n",
       "      <td>@vossroger</td>\n",
       "      <td>Quinta dos Avidagos 2011 Avidagos Red (Douro)</td>\n",
       "      <td>Portuguese Red</td>\n",
       "      <td>Quinta dos Avidagos</td>\n",
       "    </tr>\n",
       "    <tr>\n",
       "      <th>2</th>\n",
       "      <td>US</td>\n",
       "      <td>Tart and snappy, the flavors of lime flesh and...</td>\n",
       "      <td>NaN</td>\n",
       "      <td>87</td>\n",
       "      <td>14.0</td>\n",
       "      <td>Oregon</td>\n",
       "      <td>Willamette Valley</td>\n",
       "      <td>Willamette Valley</td>\n",
       "      <td>Paul Gregutt</td>\n",
       "      <td>@paulgwine</td>\n",
       "      <td>Rainstorm 2013 Pinot Gris (Willamette Valley)</td>\n",
       "      <td>Pinot Gris</td>\n",
       "      <td>Rainstorm</td>\n",
       "    </tr>\n",
       "    <tr>\n",
       "      <th>3</th>\n",
       "      <td>US</td>\n",
       "      <td>Pineapple rind, lemon pith and orange blossom ...</td>\n",
       "      <td>Reserve Late Harvest</td>\n",
       "      <td>87</td>\n",
       "      <td>13.0</td>\n",
       "      <td>Michigan</td>\n",
       "      <td>Lake Michigan Shore</td>\n",
       "      <td>NaN</td>\n",
       "      <td>Alexander Peartree</td>\n",
       "      <td>NaN</td>\n",
       "      <td>St. Julian 2013 Reserve Late Harvest Riesling ...</td>\n",
       "      <td>Riesling</td>\n",
       "      <td>St. Julian</td>\n",
       "    </tr>\n",
       "    <tr>\n",
       "      <th>4</th>\n",
       "      <td>US</td>\n",
       "      <td>Much like the regular bottling from 2012, this...</td>\n",
       "      <td>Vintner's Reserve Wild Child Block</td>\n",
       "      <td>87</td>\n",
       "      <td>65.0</td>\n",
       "      <td>Oregon</td>\n",
       "      <td>Willamette Valley</td>\n",
       "      <td>Willamette Valley</td>\n",
       "      <td>Paul Gregutt</td>\n",
       "      <td>@paulgwine</td>\n",
       "      <td>Sweet Cheeks 2012 Vintner's Reserve Wild Child...</td>\n",
       "      <td>Pinot Noir</td>\n",
       "      <td>Sweet Cheeks</td>\n",
       "    </tr>\n",
       "    <tr>\n",
       "      <th>...</th>\n",
       "      <td>...</td>\n",
       "      <td>...</td>\n",
       "      <td>...</td>\n",
       "      <td>...</td>\n",
       "      <td>...</td>\n",
       "      <td>...</td>\n",
       "      <td>...</td>\n",
       "      <td>...</td>\n",
       "      <td>...</td>\n",
       "      <td>...</td>\n",
       "      <td>...</td>\n",
       "      <td>...</td>\n",
       "      <td>...</td>\n",
       "    </tr>\n",
       "    <tr>\n",
       "      <th>19831</th>\n",
       "      <td>Australia</td>\n",
       "      <td>A blend of Shiraz from Eden Valley and the val...</td>\n",
       "      <td>The Struie</td>\n",
       "      <td>93</td>\n",
       "      <td>50.0</td>\n",
       "      <td>South Australia</td>\n",
       "      <td>Barossa</td>\n",
       "      <td>NaN</td>\n",
       "      <td>Christina Pickard</td>\n",
       "      <td>@winewchristina</td>\n",
       "      <td>Torbreck 2006 The Struie Shiraz (Barossa)</td>\n",
       "      <td>Shiraz</td>\n",
       "      <td>Torbreck</td>\n",
       "    </tr>\n",
       "    <tr>\n",
       "      <th>41472</th>\n",
       "      <td>US</td>\n",
       "      <td>Buttered toast, yeast and a hint of nut wrap a...</td>\n",
       "      <td>NaN</td>\n",
       "      <td>87</td>\n",
       "      <td>19.0</td>\n",
       "      <td>California</td>\n",
       "      <td>Carneros</td>\n",
       "      <td>Napa-Sonoma</td>\n",
       "      <td>Christina Pickard</td>\n",
       "      <td>@winewchristina</td>\n",
       "      <td>Domaine Chandon 2000 Chardonnay (Carneros)</td>\n",
       "      <td>Chardonnay</td>\n",
       "      <td>Domaine Chandon</td>\n",
       "    </tr>\n",
       "    <tr>\n",
       "      <th>44042</th>\n",
       "      <td>US</td>\n",
       "      <td>Dried spices, dusty earth and steely red fruit...</td>\n",
       "      <td>NaN</td>\n",
       "      <td>89</td>\n",
       "      <td>29.0</td>\n",
       "      <td>California</td>\n",
       "      <td>Carneros</td>\n",
       "      <td>Napa-Sonoma</td>\n",
       "      <td>Christina Pickard</td>\n",
       "      <td>@winewchristina</td>\n",
       "      <td>Domaine Chandon 2000 Pinot Meunier (Carneros)</td>\n",
       "      <td>Pinot Meunier</td>\n",
       "      <td>Domaine Chandon</td>\n",
       "    </tr>\n",
       "    <tr>\n",
       "      <th>59324</th>\n",
       "      <td>US</td>\n",
       "      <td>This 100% Pinot Noir is full-bodied and rich, ...</td>\n",
       "      <td>Blanc de Noirs</td>\n",
       "      <td>89</td>\n",
       "      <td>30.0</td>\n",
       "      <td>California</td>\n",
       "      <td>Sonoma County</td>\n",
       "      <td>Sonoma</td>\n",
       "      <td>Christina Pickard</td>\n",
       "      <td>@winewchristina</td>\n",
       "      <td>Breathless NV Blanc de Noirs Sparkling (Sonoma...</td>\n",
       "      <td>Sparkling Blend</td>\n",
       "      <td>Breathless</td>\n",
       "    </tr>\n",
       "    <tr>\n",
       "      <th>69990</th>\n",
       "      <td>US</td>\n",
       "      <td>Lots of Russian River character in this supple...</td>\n",
       "      <td>NaN</td>\n",
       "      <td>87</td>\n",
       "      <td>28.0</td>\n",
       "      <td>California</td>\n",
       "      <td>Russian River Valley</td>\n",
       "      <td>Sonoma</td>\n",
       "      <td>Christina Pickard</td>\n",
       "      <td>@winewchristina</td>\n",
       "      <td>MacMurray Ranch 2011 Pinot Noir (Russian River...</td>\n",
       "      <td>Pinot Noir</td>\n",
       "      <td>MacMurray Ranch</td>\n",
       "    </tr>\n",
       "  </tbody>\n",
       "</table>\n",
       "<p>80 rows × 13 columns</p>\n",
       "</div>"
      ],
      "text/plain": [
       "         country                                        description  \\\n",
       "0          Italy  Aromas include tropical fruit, broom, brimston...   \n",
       "1       Portugal  This is ripe and fruity, a wine that is smooth...   \n",
       "2             US  Tart and snappy, the flavors of lime flesh and...   \n",
       "3             US  Pineapple rind, lemon pith and orange blossom ...   \n",
       "4             US  Much like the regular bottling from 2012, this...   \n",
       "...          ...                                                ...   \n",
       "19831  Australia  A blend of Shiraz from Eden Valley and the val...   \n",
       "41472         US  Buttered toast, yeast and a hint of nut wrap a...   \n",
       "44042         US  Dried spices, dusty earth and steely red fruit...   \n",
       "59324         US  This 100% Pinot Noir is full-bodied and rich, ...   \n",
       "69990         US  Lots of Russian River character in this supple...   \n",
       "\n",
       "                              designation  points  price           province  \\\n",
       "0                            Vulkà Bianco      87    NaN  Sicily & Sardinia   \n",
       "1                                Avidagos      87   15.0              Douro   \n",
       "2                                     NaN      87   14.0             Oregon   \n",
       "3                    Reserve Late Harvest      87   13.0           Michigan   \n",
       "4      Vintner's Reserve Wild Child Block      87   65.0             Oregon   \n",
       "...                                   ...     ...    ...                ...   \n",
       "19831                          The Struie      93   50.0    South Australia   \n",
       "41472                                 NaN      87   19.0         California   \n",
       "44042                                 NaN      89   29.0         California   \n",
       "59324                      Blanc de Noirs      89   30.0         California   \n",
       "69990                                 NaN      87   28.0         California   \n",
       "\n",
       "                   region_1           region_2         taster_name  \\\n",
       "0                      Etna                NaN       Kerin O’Keefe   \n",
       "1                       NaN                NaN          Roger Voss   \n",
       "2         Willamette Valley  Willamette Valley        Paul Gregutt   \n",
       "3       Lake Michigan Shore                NaN  Alexander Peartree   \n",
       "4         Willamette Valley  Willamette Valley        Paul Gregutt   \n",
       "...                     ...                ...                 ...   \n",
       "19831               Barossa                NaN   Christina Pickard   \n",
       "41472              Carneros        Napa-Sonoma   Christina Pickard   \n",
       "44042              Carneros        Napa-Sonoma   Christina Pickard   \n",
       "59324         Sonoma County             Sonoma   Christina Pickard   \n",
       "69990  Russian River Valley             Sonoma   Christina Pickard   \n",
       "\n",
       "      taster_twitter_handle  \\\n",
       "0              @kerinokeefe   \n",
       "1                @vossroger   \n",
       "2               @paulgwine    \n",
       "3                       NaN   \n",
       "4               @paulgwine    \n",
       "...                     ...   \n",
       "19831       @winewchristina   \n",
       "41472       @winewchristina   \n",
       "44042       @winewchristina   \n",
       "59324       @winewchristina   \n",
       "69990       @winewchristina   \n",
       "\n",
       "                                                   title          variety  \\\n",
       "0                      Nicosia 2013 Vulkà Bianco  (Etna)      White Blend   \n",
       "1          Quinta dos Avidagos 2011 Avidagos Red (Douro)   Portuguese Red   \n",
       "2          Rainstorm 2013 Pinot Gris (Willamette Valley)       Pinot Gris   \n",
       "3      St. Julian 2013 Reserve Late Harvest Riesling ...         Riesling   \n",
       "4      Sweet Cheeks 2012 Vintner's Reserve Wild Child...       Pinot Noir   \n",
       "...                                                  ...              ...   \n",
       "19831          Torbreck 2006 The Struie Shiraz (Barossa)           Shiraz   \n",
       "41472         Domaine Chandon 2000 Chardonnay (Carneros)       Chardonnay   \n",
       "44042      Domaine Chandon 2000 Pinot Meunier (Carneros)    Pinot Meunier   \n",
       "59324  Breathless NV Blanc de Noirs Sparkling (Sonoma...  Sparkling Blend   \n",
       "69990  MacMurray Ranch 2011 Pinot Noir (Russian River...       Pinot Noir   \n",
       "\n",
       "                    winery  \n",
       "0                  Nicosia  \n",
       "1      Quinta dos Avidagos  \n",
       "2                Rainstorm  \n",
       "3               St. Julian  \n",
       "4             Sweet Cheeks  \n",
       "...                    ...  \n",
       "19831             Torbreck  \n",
       "41472      Domaine Chandon  \n",
       "44042      Domaine Chandon  \n",
       "59324           Breathless  \n",
       "69990      MacMurray Ranch  \n",
       "\n",
       "[80 rows x 13 columns]"
      ]
     },
     "execution_count": 3,
     "metadata": {},
     "output_type": "execute_result"
    }
   ],
   "source": [
    "reviews.groupby('taster_twitter_handle').head()"
   ]
  },
  {
   "cell_type": "markdown",
   "id": "6b9af299",
   "metadata": {
    "papermill": {
     "duration": 0.008093,
     "end_time": "2022-07-27T23:29:45.769922",
     "exception": false,
     "start_time": "2022-07-27T23:29:45.761829",
     "status": "completed"
    },
    "tags": []
   },
   "source": [
    "# Exercises"
   ]
  },
  {
   "cell_type": "markdown",
   "id": "ff10cc54",
   "metadata": {
    "papermill": {
     "duration": 0.008051,
     "end_time": "2022-07-27T23:29:45.786300",
     "exception": false,
     "start_time": "2022-07-27T23:29:45.778249",
     "status": "completed"
    },
    "tags": []
   },
   "source": [
    "## 1.\n",
    "Who are the most common wine reviewers in the dataset? Create a `Series` whose index is the `taster_twitter_handle` category from the dataset, and whose values count how many reviews each person wrote."
   ]
  },
  {
   "cell_type": "code",
   "execution_count": 4,
   "id": "bc42b785",
   "metadata": {
    "execution": {
     "iopub.execute_input": "2022-07-27T23:29:45.804790Z",
     "iopub.status.busy": "2022-07-27T23:29:45.804370Z",
     "iopub.status.idle": "2022-07-27T23:29:45.842419Z",
     "shell.execute_reply": "2022-07-27T23:29:45.841714Z"
    },
    "papermill": {
     "duration": 0.049639,
     "end_time": "2022-07-27T23:29:45.844407",
     "exception": false,
     "start_time": "2022-07-27T23:29:45.794768",
     "status": "completed"
    },
    "tags": []
   },
   "outputs": [
    {
     "data": {
      "application/javascript": [
       "parent.postMessage({\"jupyterEvent\": \"custom.exercise_interaction\", \"data\": {\"outcomeType\": 1, \"valueTowardsCompletion\": 0.16666666666666666, \"interactionType\": 1, \"questionType\": 1, \"questionId\": \"1_ReviewsWritten\", \"learnToolsVersion\": \"0.3.4\", \"failureMessage\": \"\", \"exceptionClass\": \"\", \"trace\": \"\"}}, \"*\")"
      ],
      "text/plain": [
       "<IPython.core.display.Javascript object>"
      ]
     },
     "metadata": {},
     "output_type": "display_data"
    },
    {
     "data": {
      "text/markdown": [
       "<span style=\"color:#33cc33\">Correct:</span> \n",
       "\n",
       "\n",
       "```python\n",
       "reviews_written = reviews.groupby('taster_twitter_handle').size()\n",
       "```\n",
       "or\n",
       "```python\n",
       "reviews_written = reviews.groupby('taster_twitter_handle').taster_twitter_handle.count()\n",
       "```\n"
      ],
      "text/plain": [
       "Correct: \n",
       "\n",
       "\n",
       "```python\n",
       "reviews_written = reviews.groupby('taster_twitter_handle').size()\n",
       "```\n",
       "or\n",
       "```python\n",
       "reviews_written = reviews.groupby('taster_twitter_handle').taster_twitter_handle.count()\n",
       "```"
      ]
     },
     "metadata": {},
     "output_type": "display_data"
    }
   ],
   "source": [
    "# Your code here\n",
    "reviews_written = reviews.groupby('taster_twitter_handle').taster_twitter_handle.count()\n",
    "\n",
    "# Check your answer\n",
    "q1.check()"
   ]
  },
  {
   "cell_type": "code",
   "execution_count": 5,
   "id": "e185a7c3",
   "metadata": {
    "execution": {
     "iopub.execute_input": "2022-07-27T23:29:45.864210Z",
     "iopub.status.busy": "2022-07-27T23:29:45.863255Z",
     "iopub.status.idle": "2022-07-27T23:29:45.870935Z",
     "shell.execute_reply": "2022-07-27T23:29:45.870052Z"
    },
    "papermill": {
     "duration": 0.019799,
     "end_time": "2022-07-27T23:29:45.872996",
     "exception": false,
     "start_time": "2022-07-27T23:29:45.853197",
     "status": "completed"
    },
    "tags": []
   },
   "outputs": [
    {
     "data": {
      "application/javascript": [
       "parent.postMessage({\"jupyterEvent\": \"custom.exercise_interaction\", \"data\": {\"interactionType\": 3, \"questionType\": 1, \"questionId\": \"1_ReviewsWritten\", \"learnToolsVersion\": \"0.3.4\", \"valueTowardsCompletion\": 0.0, \"failureMessage\": \"\", \"exceptionClass\": \"\", \"trace\": \"\", \"outcomeType\": 4}}, \"*\")"
      ],
      "text/plain": [
       "<IPython.core.display.Javascript object>"
      ]
     },
     "metadata": {},
     "output_type": "display_data"
    },
    {
     "data": {
      "text/markdown": [
       "<span style=\"color:#33cc99\">Solution:</span> \n",
       "```python\n",
       "reviews_written = reviews.groupby('taster_twitter_handle').size()\n",
       "```\n",
       "or\n",
       "```python\n",
       "reviews_written = reviews.groupby('taster_twitter_handle').taster_twitter_handle.count()\n",
       "```\n"
      ],
      "text/plain": [
       "Solution: \n",
       "```python\n",
       "reviews_written = reviews.groupby('taster_twitter_handle').size()\n",
       "```\n",
       "or\n",
       "```python\n",
       "reviews_written = reviews.groupby('taster_twitter_handle').taster_twitter_handle.count()\n",
       "```"
      ]
     },
     "metadata": {},
     "output_type": "display_data"
    }
   ],
   "source": [
    "#q1.hint()\n",
    "q1.solution()"
   ]
  },
  {
   "cell_type": "markdown",
   "id": "8b909469",
   "metadata": {
    "papermill": {
     "duration": 0.009564,
     "end_time": "2022-07-27T23:29:45.891564",
     "exception": false,
     "start_time": "2022-07-27T23:29:45.882000",
     "status": "completed"
    },
    "tags": []
   },
   "source": [
    "## 2.\n",
    "What is the best wine I can buy for a given amount of money? Create a `Series` whose index is wine prices and whose values is the maximum number of points a wine costing that much was given in a review. Sort the values by price, ascending (so that `4.0` dollars is at the top and `3300.0` dollars is at the bottom)."
   ]
  },
  {
   "cell_type": "code",
   "execution_count": 6,
   "id": "bf2786be",
   "metadata": {
    "execution": {
     "iopub.execute_input": "2022-07-27T23:29:45.911020Z",
     "iopub.status.busy": "2022-07-27T23:29:45.910614Z",
     "iopub.status.idle": "2022-07-27T23:29:45.924284Z",
     "shell.execute_reply": "2022-07-27T23:29:45.923157Z"
    },
    "papermill": {
     "duration": 0.026088,
     "end_time": "2022-07-27T23:29:45.926561",
     "exception": false,
     "start_time": "2022-07-27T23:29:45.900473",
     "status": "completed"
    },
    "tags": []
   },
   "outputs": [
    {
     "data": {
      "application/javascript": [
       "parent.postMessage({\"jupyterEvent\": \"custom.exercise_interaction\", \"data\": {\"outcomeType\": 1, \"valueTowardsCompletion\": 0.16666666666666666, \"interactionType\": 1, \"questionType\": 1, \"questionId\": \"2_BestRatingPerPrice\", \"learnToolsVersion\": \"0.3.4\", \"failureMessage\": \"\", \"exceptionClass\": \"\", \"trace\": \"\"}}, \"*\")"
      ],
      "text/plain": [
       "<IPython.core.display.Javascript object>"
      ]
     },
     "metadata": {},
     "output_type": "display_data"
    },
    {
     "data": {
      "text/markdown": [
       "<span style=\"color:#33cc33\">Correct</span>"
      ],
      "text/plain": [
       "Correct"
      ]
     },
     "metadata": {},
     "output_type": "display_data"
    }
   ],
   "source": [
    "best_rating_per_price = reviews.groupby('price').points.max()\n",
    "\n",
    "# Check your answer\n",
    "q2.check()"
   ]
  },
  {
   "cell_type": "code",
   "execution_count": 7,
   "id": "c94a4a64",
   "metadata": {
    "execution": {
     "iopub.execute_input": "2022-07-27T23:29:45.947590Z",
     "iopub.status.busy": "2022-07-27T23:29:45.946857Z",
     "iopub.status.idle": "2022-07-27T23:29:45.955643Z",
     "shell.execute_reply": "2022-07-27T23:29:45.954779Z"
    },
    "papermill": {
     "duration": 0.021897,
     "end_time": "2022-07-27T23:29:45.957794",
     "exception": false,
     "start_time": "2022-07-27T23:29:45.935897",
     "status": "completed"
    },
    "tags": []
   },
   "outputs": [
    {
     "data": {
      "application/javascript": [
       "parent.postMessage({\"jupyterEvent\": \"custom.exercise_interaction\", \"data\": {\"interactionType\": 3, \"questionType\": 1, \"questionId\": \"2_BestRatingPerPrice\", \"learnToolsVersion\": \"0.3.4\", \"valueTowardsCompletion\": 0.0, \"failureMessage\": \"\", \"exceptionClass\": \"\", \"trace\": \"\", \"outcomeType\": 4}}, \"*\")"
      ],
      "text/plain": [
       "<IPython.core.display.Javascript object>"
      ]
     },
     "metadata": {},
     "output_type": "display_data"
    },
    {
     "data": {
      "text/markdown": [
       "<span style=\"color:#33cc99\">Solution:</span> \n",
       "```python\n",
       "best_rating_per_price = reviews.groupby('price')['points'].max().sort_index()\n",
       "```"
      ],
      "text/plain": [
       "Solution: \n",
       "```python\n",
       "best_rating_per_price = reviews.groupby('price')['points'].max().sort_index()\n",
       "```"
      ]
     },
     "metadata": {},
     "output_type": "display_data"
    }
   ],
   "source": [
    "#q2.hint()\n",
    "q2.solution()"
   ]
  },
  {
   "cell_type": "markdown",
   "id": "9103ce18",
   "metadata": {
    "papermill": {
     "duration": 0.009335,
     "end_time": "2022-07-27T23:29:45.976607",
     "exception": false,
     "start_time": "2022-07-27T23:29:45.967272",
     "status": "completed"
    },
    "tags": []
   },
   "source": [
    "## 3.\n",
    "What are the minimum and maximum prices for each `variety` of wine? Create a `DataFrame` whose index is the `variety` category from the dataset and whose values are the `min` and `max` values thereof."
   ]
  },
  {
   "cell_type": "code",
   "execution_count": 8,
   "id": "275e068e",
   "metadata": {
    "execution": {
     "iopub.execute_input": "2022-07-27T23:29:45.997921Z",
     "iopub.status.busy": "2022-07-27T23:29:45.997175Z",
     "iopub.status.idle": "2022-07-27T23:29:46.028497Z",
     "shell.execute_reply": "2022-07-27T23:29:46.027368Z"
    },
    "papermill": {
     "duration": 0.044579,
     "end_time": "2022-07-27T23:29:46.030732",
     "exception": false,
     "start_time": "2022-07-27T23:29:45.986153",
     "status": "completed"
    },
    "tags": []
   },
   "outputs": [
    {
     "data": {
      "application/javascript": [
       "parent.postMessage({\"jupyterEvent\": \"custom.exercise_interaction\", \"data\": {\"outcomeType\": 1, \"valueTowardsCompletion\": 0.16666666666666666, \"interactionType\": 1, \"questionType\": 1, \"questionId\": \"3_PriceExtremes\", \"learnToolsVersion\": \"0.3.4\", \"failureMessage\": \"\", \"exceptionClass\": \"\", \"trace\": \"\"}}, \"*\")"
      ],
      "text/plain": [
       "<IPython.core.display.Javascript object>"
      ]
     },
     "metadata": {},
     "output_type": "display_data"
    },
    {
     "data": {
      "text/markdown": [
       "<span style=\"color:#33cc33\">Correct</span>"
      ],
      "text/plain": [
       "Correct"
      ]
     },
     "metadata": {},
     "output_type": "display_data"
    }
   ],
   "source": [
    "price_extremes = reviews.groupby('variety').price.agg([min, max])\n",
    "# Check your answer\n",
    "q3.check()"
   ]
  },
  {
   "cell_type": "code",
   "execution_count": 9,
   "id": "2455b292",
   "metadata": {
    "execution": {
     "iopub.execute_input": "2022-07-27T23:29:46.053263Z",
     "iopub.status.busy": "2022-07-27T23:29:46.052239Z",
     "iopub.status.idle": "2022-07-27T23:29:46.061914Z",
     "shell.execute_reply": "2022-07-27T23:29:46.061030Z"
    },
    "papermill": {
     "duration": 0.023545,
     "end_time": "2022-07-27T23:29:46.064125",
     "exception": false,
     "start_time": "2022-07-27T23:29:46.040580",
     "status": "completed"
    },
    "tags": []
   },
   "outputs": [
    {
     "data": {
      "application/javascript": [
       "parent.postMessage({\"jupyterEvent\": \"custom.exercise_interaction\", \"data\": {\"interactionType\": 3, \"questionType\": 1, \"questionId\": \"3_PriceExtremes\", \"learnToolsVersion\": \"0.3.4\", \"valueTowardsCompletion\": 0.0, \"failureMessage\": \"\", \"exceptionClass\": \"\", \"trace\": \"\", \"outcomeType\": 4}}, \"*\")"
      ],
      "text/plain": [
       "<IPython.core.display.Javascript object>"
      ]
     },
     "metadata": {},
     "output_type": "display_data"
    },
    {
     "data": {
      "text/markdown": [
       "<span style=\"color:#33cc99\">Solution:</span> \n",
       "```python\n",
       "price_extremes = reviews.groupby('variety').price.agg([min, max])\n",
       "```"
      ],
      "text/plain": [
       "Solution: \n",
       "```python\n",
       "price_extremes = reviews.groupby('variety').price.agg([min, max])\n",
       "```"
      ]
     },
     "metadata": {},
     "output_type": "display_data"
    }
   ],
   "source": [
    "#q3.hint()\n",
    "q3.solution()"
   ]
  },
  {
   "cell_type": "markdown",
   "id": "0ff27589",
   "metadata": {
    "papermill": {
     "duration": 0.01032,
     "end_time": "2022-07-27T23:29:46.085143",
     "exception": false,
     "start_time": "2022-07-27T23:29:46.074823",
     "status": "completed"
    },
    "tags": []
   },
   "source": [
    "## 4.\n",
    "What are the most expensive wine varieties? Create a variable `sorted_varieties` containing a copy of the dataframe from the previous question where varieties are sorted in descending order based on minimum price, then on maximum price (to break ties)."
   ]
  },
  {
   "cell_type": "code",
   "execution_count": 10,
   "id": "dcda5934",
   "metadata": {
    "execution": {
     "iopub.execute_input": "2022-07-27T23:29:46.108262Z",
     "iopub.status.busy": "2022-07-27T23:29:46.107459Z",
     "iopub.status.idle": "2022-07-27T23:29:46.119013Z",
     "shell.execute_reply": "2022-07-27T23:29:46.118090Z"
    },
    "papermill": {
     "duration": 0.02561,
     "end_time": "2022-07-27T23:29:46.121140",
     "exception": false,
     "start_time": "2022-07-27T23:29:46.095530",
     "status": "completed"
    },
    "tags": []
   },
   "outputs": [
    {
     "data": {
      "application/javascript": [
       "parent.postMessage({\"jupyterEvent\": \"custom.exercise_interaction\", \"data\": {\"outcomeType\": 1, \"valueTowardsCompletion\": 0.16666666666666666, \"interactionType\": 1, \"questionType\": 1, \"questionId\": \"4_SortedVarieties\", \"learnToolsVersion\": \"0.3.4\", \"failureMessage\": \"\", \"exceptionClass\": \"\", \"trace\": \"\"}}, \"*\")"
      ],
      "text/plain": [
       "<IPython.core.display.Javascript object>"
      ]
     },
     "metadata": {},
     "output_type": "display_data"
    },
    {
     "data": {
      "text/markdown": [
       "<span style=\"color:#33cc33\">Correct</span>"
      ],
      "text/plain": [
       "Correct"
      ]
     },
     "metadata": {},
     "output_type": "display_data"
    }
   ],
   "source": [
    "sorted_varieties = price_extremes.sort_values(by=['min','max'], ascending=False)\n",
    "\n",
    "# Check your answer\n",
    "q4.check()"
   ]
  },
  {
   "cell_type": "code",
   "execution_count": 11,
   "id": "3534fac7",
   "metadata": {
    "execution": {
     "iopub.execute_input": "2022-07-27T23:29:46.143878Z",
     "iopub.status.busy": "2022-07-27T23:29:46.143462Z",
     "iopub.status.idle": "2022-07-27T23:29:46.157464Z",
     "shell.execute_reply": "2022-07-27T23:29:46.156369Z"
    },
    "papermill": {
     "duration": 0.028166,
     "end_time": "2022-07-27T23:29:46.159752",
     "exception": false,
     "start_time": "2022-07-27T23:29:46.131586",
     "status": "completed"
    },
    "tags": []
   },
   "outputs": [
    {
     "data": {
      "text/html": [
       "<div>\n",
       "<style scoped>\n",
       "    .dataframe tbody tr th:only-of-type {\n",
       "        vertical-align: middle;\n",
       "    }\n",
       "\n",
       "    .dataframe tbody tr th {\n",
       "        vertical-align: top;\n",
       "    }\n",
       "\n",
       "    .dataframe thead th {\n",
       "        text-align: right;\n",
       "    }\n",
       "</style>\n",
       "<table border=\"1\" class=\"dataframe\">\n",
       "  <thead>\n",
       "    <tr style=\"text-align: right;\">\n",
       "      <th></th>\n",
       "      <th>min</th>\n",
       "      <th>max</th>\n",
       "    </tr>\n",
       "    <tr>\n",
       "      <th>variety</th>\n",
       "      <th></th>\n",
       "      <th></th>\n",
       "    </tr>\n",
       "  </thead>\n",
       "  <tbody>\n",
       "    <tr>\n",
       "      <th>Ramisco</th>\n",
       "      <td>495.0</td>\n",
       "      <td>495.0</td>\n",
       "    </tr>\n",
       "    <tr>\n",
       "      <th>Terrantez</th>\n",
       "      <td>236.0</td>\n",
       "      <td>236.0</td>\n",
       "    </tr>\n",
       "    <tr>\n",
       "      <th>Francisa</th>\n",
       "      <td>160.0</td>\n",
       "      <td>160.0</td>\n",
       "    </tr>\n",
       "    <tr>\n",
       "      <th>Rosenmuskateller</th>\n",
       "      <td>150.0</td>\n",
       "      <td>150.0</td>\n",
       "    </tr>\n",
       "    <tr>\n",
       "      <th>Tinta Negra Mole</th>\n",
       "      <td>112.0</td>\n",
       "      <td>112.0</td>\n",
       "    </tr>\n",
       "    <tr>\n",
       "      <th>...</th>\n",
       "      <td>...</td>\n",
       "      <td>...</td>\n",
       "    </tr>\n",
       "    <tr>\n",
       "      <th>Roscetto</th>\n",
       "      <td>NaN</td>\n",
       "      <td>NaN</td>\n",
       "    </tr>\n",
       "    <tr>\n",
       "      <th>Sauvignon Blanc-Sauvignon Gris</th>\n",
       "      <td>NaN</td>\n",
       "      <td>NaN</td>\n",
       "    </tr>\n",
       "    <tr>\n",
       "      <th>Tempranillo-Malbec</th>\n",
       "      <td>NaN</td>\n",
       "      <td>NaN</td>\n",
       "    </tr>\n",
       "    <tr>\n",
       "      <th>Vital</th>\n",
       "      <td>NaN</td>\n",
       "      <td>NaN</td>\n",
       "    </tr>\n",
       "    <tr>\n",
       "      <th>Zelen</th>\n",
       "      <td>NaN</td>\n",
       "      <td>NaN</td>\n",
       "    </tr>\n",
       "  </tbody>\n",
       "</table>\n",
       "<p>707 rows × 2 columns</p>\n",
       "</div>"
      ],
      "text/plain": [
       "                                  min    max\n",
       "variety                                     \n",
       "Ramisco                         495.0  495.0\n",
       "Terrantez                       236.0  236.0\n",
       "Francisa                        160.0  160.0\n",
       "Rosenmuskateller                150.0  150.0\n",
       "Tinta Negra Mole                112.0  112.0\n",
       "...                               ...    ...\n",
       "Roscetto                          NaN    NaN\n",
       "Sauvignon Blanc-Sauvignon Gris    NaN    NaN\n",
       "Tempranillo-Malbec                NaN    NaN\n",
       "Vital                             NaN    NaN\n",
       "Zelen                             NaN    NaN\n",
       "\n",
       "[707 rows x 2 columns]"
      ]
     },
     "execution_count": 11,
     "metadata": {},
     "output_type": "execute_result"
    }
   ],
   "source": [
    "sorted_varieties"
   ]
  },
  {
   "cell_type": "code",
   "execution_count": 12,
   "id": "4b3c9087",
   "metadata": {
    "execution": {
     "iopub.execute_input": "2022-07-27T23:29:46.183793Z",
     "iopub.status.busy": "2022-07-27T23:29:46.183031Z",
     "iopub.status.idle": "2022-07-27T23:29:46.187501Z",
     "shell.execute_reply": "2022-07-27T23:29:46.186725Z"
    },
    "papermill": {
     "duration": 0.01898,
     "end_time": "2022-07-27T23:29:46.189745",
     "exception": false,
     "start_time": "2022-07-27T23:29:46.170765",
     "status": "completed"
    },
    "tags": []
   },
   "outputs": [],
   "source": [
    "#q4.hint()\n",
    "#q4.solution()"
   ]
  },
  {
   "cell_type": "markdown",
   "id": "5ae09133",
   "metadata": {
    "papermill": {
     "duration": 0.010575,
     "end_time": "2022-07-27T23:29:46.211652",
     "exception": false,
     "start_time": "2022-07-27T23:29:46.201077",
     "status": "completed"
    },
    "tags": []
   },
   "source": [
    "## 5.\n",
    "Create a `Series` whose index is reviewers and whose values is the average review score given out by that reviewer. Hint: you will need the `taster_name` and `points` columns."
   ]
  },
  {
   "cell_type": "code",
   "execution_count": 13,
   "id": "e1792377",
   "metadata": {
    "execution": {
     "iopub.execute_input": "2022-07-27T23:29:46.235611Z",
     "iopub.status.busy": "2022-07-27T23:29:46.234866Z",
     "iopub.status.idle": "2022-07-27T23:29:46.262894Z",
     "shell.execute_reply": "2022-07-27T23:29:46.261715Z"
    },
    "papermill": {
     "duration": 0.042335,
     "end_time": "2022-07-27T23:29:46.265185",
     "exception": false,
     "start_time": "2022-07-27T23:29:46.222850",
     "status": "completed"
    },
    "tags": []
   },
   "outputs": [
    {
     "data": {
      "application/javascript": [
       "parent.postMessage({\"jupyterEvent\": \"custom.exercise_interaction\", \"data\": {\"outcomeType\": 1, \"valueTowardsCompletion\": 0.16666666666666666, \"interactionType\": 1, \"questionType\": 1, \"questionId\": \"5_ReviewerMeanRatings\", \"learnToolsVersion\": \"0.3.4\", \"failureMessage\": \"\", \"exceptionClass\": \"\", \"trace\": \"\"}}, \"*\")"
      ],
      "text/plain": [
       "<IPython.core.display.Javascript object>"
      ]
     },
     "metadata": {},
     "output_type": "display_data"
    },
    {
     "data": {
      "text/markdown": [
       "<span style=\"color:#33cc33\">Correct</span>"
      ],
      "text/plain": [
       "Correct"
      ]
     },
     "metadata": {},
     "output_type": "display_data"
    }
   ],
   "source": [
    "reviewer_mean_ratings = reviews.groupby('taster_name').points.mean()\n",
    "\n",
    "# Check your answer\n",
    "q5.check()"
   ]
  },
  {
   "cell_type": "code",
   "execution_count": 14,
   "id": "998854d3",
   "metadata": {
    "execution": {
     "iopub.execute_input": "2022-07-27T23:29:46.289556Z",
     "iopub.status.busy": "2022-07-27T23:29:46.288800Z",
     "iopub.status.idle": "2022-07-27T23:29:46.297924Z",
     "shell.execute_reply": "2022-07-27T23:29:46.296829Z"
    },
    "papermill": {
     "duration": 0.023913,
     "end_time": "2022-07-27T23:29:46.300132",
     "exception": false,
     "start_time": "2022-07-27T23:29:46.276219",
     "status": "completed"
    },
    "tags": []
   },
   "outputs": [
    {
     "data": {
      "application/javascript": [
       "parent.postMessage({\"jupyterEvent\": \"custom.exercise_interaction\", \"data\": {\"interactionType\": 3, \"questionType\": 1, \"questionId\": \"5_ReviewerMeanRatings\", \"learnToolsVersion\": \"0.3.4\", \"valueTowardsCompletion\": 0.0, \"failureMessage\": \"\", \"exceptionClass\": \"\", \"trace\": \"\", \"outcomeType\": 4}}, \"*\")"
      ],
      "text/plain": [
       "<IPython.core.display.Javascript object>"
      ]
     },
     "metadata": {},
     "output_type": "display_data"
    },
    {
     "data": {
      "text/markdown": [
       "<span style=\"color:#33cc99\">Solution:</span> \n",
       "```python\n",
       "reviewer_mean_ratings = reviews.groupby('taster_name').points.mean()\n",
       "```"
      ],
      "text/plain": [
       "Solution: \n",
       "```python\n",
       "reviewer_mean_ratings = reviews.groupby('taster_name').points.mean()\n",
       "```"
      ]
     },
     "metadata": {},
     "output_type": "display_data"
    }
   ],
   "source": [
    "#q5.hint()\n",
    "q5.solution()"
   ]
  },
  {
   "cell_type": "markdown",
   "id": "b4f3f8c3",
   "metadata": {
    "papermill": {
     "duration": 0.011046,
     "end_time": "2022-07-27T23:29:46.322442",
     "exception": false,
     "start_time": "2022-07-27T23:29:46.311396",
     "status": "completed"
    },
    "tags": []
   },
   "source": [
    "Are there significant differences in the average scores assigned by the various reviewers? Run the cell below to use the `describe()` method to see a summary of the range of values."
   ]
  },
  {
   "cell_type": "code",
   "execution_count": 15,
   "id": "4e070051",
   "metadata": {
    "execution": {
     "iopub.execute_input": "2022-07-27T23:29:46.347451Z",
     "iopub.status.busy": "2022-07-27T23:29:46.346713Z",
     "iopub.status.idle": "2022-07-27T23:29:46.358919Z",
     "shell.execute_reply": "2022-07-27T23:29:46.357914Z"
    },
    "papermill": {
     "duration": 0.027311,
     "end_time": "2022-07-27T23:29:46.361144",
     "exception": false,
     "start_time": "2022-07-27T23:29:46.333833",
     "status": "completed"
    },
    "tags": []
   },
   "outputs": [
    {
     "data": {
      "text/plain": [
       "count    19.000000\n",
       "mean     88.233026\n",
       "std       1.243610\n",
       "min      85.855422\n",
       "25%      87.323501\n",
       "50%      88.536235\n",
       "75%      88.975256\n",
       "max      90.562551\n",
       "Name: points, dtype: float64"
      ]
     },
     "execution_count": 15,
     "metadata": {},
     "output_type": "execute_result"
    }
   ],
   "source": [
    "reviewer_mean_ratings.describe()"
   ]
  },
  {
   "cell_type": "markdown",
   "id": "b7930332",
   "metadata": {
    "papermill": {
     "duration": 0.011209,
     "end_time": "2022-07-27T23:29:46.383734",
     "exception": false,
     "start_time": "2022-07-27T23:29:46.372525",
     "status": "completed"
    },
    "tags": []
   },
   "source": [
    "## 6.\n",
    "What combination of countries and varieties are most common? Create a `Series` whose index is a `MultiIndex`of `{country, variety}` pairs. For example, a pinot noir produced in the US should map to `{\"US\", \"Pinot Noir\"}`. Sort the values in the `Series` in descending order based on wine count."
   ]
  },
  {
   "cell_type": "code",
   "execution_count": 16,
   "id": "0d049b4a",
   "metadata": {
    "execution": {
     "iopub.execute_input": "2022-07-27T23:29:46.409191Z",
     "iopub.status.busy": "2022-07-27T23:29:46.408404Z",
     "iopub.status.idle": "2022-07-27T23:29:46.456833Z",
     "shell.execute_reply": "2022-07-27T23:29:46.455684Z"
    },
    "papermill": {
     "duration": 0.063956,
     "end_time": "2022-07-27T23:29:46.459259",
     "exception": false,
     "start_time": "2022-07-27T23:29:46.395303",
     "status": "completed"
    },
    "tags": []
   },
   "outputs": [
    {
     "data": {
      "application/javascript": [
       "parent.postMessage({\"jupyterEvent\": \"custom.exercise_interaction\", \"data\": {\"outcomeType\": 1, \"valueTowardsCompletion\": 0.16666666666666666, \"interactionType\": 1, \"questionType\": 1, \"questionId\": \"6_GroupbyCountryVariety\", \"learnToolsVersion\": \"0.3.4\", \"failureMessage\": \"\", \"exceptionClass\": \"\", \"trace\": \"\"}}, \"*\")"
      ],
      "text/plain": [
       "<IPython.core.display.Javascript object>"
      ]
     },
     "metadata": {},
     "output_type": "display_data"
    },
    {
     "data": {
      "text/markdown": [
       "<span style=\"color:#33cc33\">Correct</span>"
      ],
      "text/plain": [
       "Correct"
      ]
     },
     "metadata": {},
     "output_type": "display_data"
    }
   ],
   "source": [
    "country_variety_counts = reviews.groupby(['country', 'variety']).size().sort_values(ascending=False)\n",
    "# Check your answer\n",
    "q6.check()"
   ]
  },
  {
   "cell_type": "code",
   "execution_count": 17,
   "id": "ccb6d706",
   "metadata": {
    "execution": {
     "iopub.execute_input": "2022-07-27T23:29:46.485226Z",
     "iopub.status.busy": "2022-07-27T23:29:46.484393Z",
     "iopub.status.idle": "2022-07-27T23:29:46.532364Z",
     "shell.execute_reply": "2022-07-27T23:29:46.531117Z"
    },
    "papermill": {
     "duration": 0.063832,
     "end_time": "2022-07-27T23:29:46.534862",
     "exception": false,
     "start_time": "2022-07-27T23:29:46.471030",
     "status": "completed"
    },
    "tags": []
   },
   "outputs": [
    {
     "data": {
      "text/plain": [
       "country    variety                   \n",
       "Argentina  Barbera                         1\n",
       "           Bonarda                       105\n",
       "           Bordeaux-style Red Blend       89\n",
       "           Bordeaux-style White Blend      1\n",
       "           Cabernet Blend                  8\n",
       "                                        ... \n",
       "Uruguay    Tannat-Cabernet Franc           2\n",
       "           Tannat-Merlot                   6\n",
       "           Tannat-Syrah                    1\n",
       "           Tempranillo-Tannat              1\n",
       "           White Blend                     1\n",
       "Length: 1612, dtype: int64"
      ]
     },
     "execution_count": 17,
     "metadata": {},
     "output_type": "execute_result"
    }
   ],
   "source": [
    "reviews.groupby(['country', 'variety']).size()"
   ]
  },
  {
   "cell_type": "code",
   "execution_count": 18,
   "id": "f5ccef57",
   "metadata": {
    "execution": {
     "iopub.execute_input": "2022-07-27T23:29:46.561227Z",
     "iopub.status.busy": "2022-07-27T23:29:46.560452Z",
     "iopub.status.idle": "2022-07-27T23:29:46.569616Z",
     "shell.execute_reply": "2022-07-27T23:29:46.568761Z"
    },
    "papermill": {
     "duration": 0.025238,
     "end_time": "2022-07-27T23:29:46.571960",
     "exception": false,
     "start_time": "2022-07-27T23:29:46.546722",
     "status": "completed"
    },
    "tags": []
   },
   "outputs": [
    {
     "data": {
      "application/javascript": [
       "parent.postMessage({\"jupyterEvent\": \"custom.exercise_interaction\", \"data\": {\"interactionType\": 3, \"questionType\": 1, \"questionId\": \"6_GroupbyCountryVariety\", \"learnToolsVersion\": \"0.3.4\", \"valueTowardsCompletion\": 0.0, \"failureMessage\": \"\", \"exceptionClass\": \"\", \"trace\": \"\", \"outcomeType\": 4}}, \"*\")"
      ],
      "text/plain": [
       "<IPython.core.display.Javascript object>"
      ]
     },
     "metadata": {},
     "output_type": "display_data"
    },
    {
     "data": {
      "text/markdown": [
       "<span style=\"color:#33cc99\">Solution:</span> \n",
       "```python\n",
       "country_variety_counts = reviews.groupby(['country', 'variety']).size().sort_values(ascending=False)\n",
       "```"
      ],
      "text/plain": [
       "Solution: \n",
       "```python\n",
       "country_variety_counts = reviews.groupby(['country', 'variety']).size().sort_values(ascending=False)\n",
       "```"
      ]
     },
     "metadata": {},
     "output_type": "display_data"
    }
   ],
   "source": [
    "#q6.hint()\n",
    "q6.solution()"
   ]
  },
  {
   "cell_type": "markdown",
   "id": "80b9c637",
   "metadata": {
    "papermill": {
     "duration": 0.011687,
     "end_time": "2022-07-27T23:29:46.595691",
     "exception": false,
     "start_time": "2022-07-27T23:29:46.584004",
     "status": "completed"
    },
    "tags": []
   },
   "source": [
    "# Keep going\n",
    "\n",
    "Move on to the [**data types and missing data**](https://www.kaggle.com/residentmario/data-types-and-missing-values)."
   ]
  },
  {
   "cell_type": "markdown",
   "id": "f0dc666f",
   "metadata": {
    "papermill": {
     "duration": 0.011465,
     "end_time": "2022-07-27T23:29:46.619000",
     "exception": false,
     "start_time": "2022-07-27T23:29:46.607535",
     "status": "completed"
    },
    "tags": []
   },
   "source": [
    "---\n",
    "\n",
    "\n",
    "\n",
    "\n",
    "*Have questions or comments? Visit the [course discussion forum](https://www.kaggle.com/learn/pandas/discussion) to chat with other learners.*"
   ]
  }
 ],
 "metadata": {
  "kernelspec": {
   "display_name": "Python 3",
   "language": "python",
   "name": "python3"
  },
  "language_info": {
   "codemirror_mode": {
    "name": "ipython",
    "version": 3
   },
   "file_extension": ".py",
   "mimetype": "text/x-python",
   "name": "python",
   "nbconvert_exporter": "python",
   "pygments_lexer": "ipython3",
   "version": "3.7.12"
  },
  "papermill": {
   "default_parameters": {},
   "duration": 14.788633,
   "end_time": "2022-07-27T23:29:47.352819",
   "environment_variables": {},
   "exception": null,
   "input_path": "__notebook__.ipynb",
   "output_path": "__notebook__.ipynb",
   "parameters": {},
   "start_time": "2022-07-27T23:29:32.564186",
   "version": "2.3.4"
  }
 },
 "nbformat": 4,
 "nbformat_minor": 5
}
