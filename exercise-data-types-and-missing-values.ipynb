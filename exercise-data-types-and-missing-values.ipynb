{
 "cells": [
  {
   "cell_type": "markdown",
   "id": "ccb55cf5",
   "metadata": {
    "papermill": {
     "duration": 0.00697,
     "end_time": "2022-07-27T23:58:29.302224",
     "exception": false,
     "start_time": "2022-07-27T23:58:29.295254",
     "status": "completed"
    },
    "tags": []
   },
   "source": [
    "**This notebook is an exercise in the [Pandas](https://www.kaggle.com/learn/pandas) course.  You can reference the tutorial at [this link](https://www.kaggle.com/residentmario/data-types-and-missing-values).**\n",
    "\n",
    "---\n"
   ]
  },
  {
   "cell_type": "markdown",
   "id": "1deac57c",
   "metadata": {
    "papermill": {
     "duration": 0.004983,
     "end_time": "2022-07-27T23:58:29.312763",
     "exception": false,
     "start_time": "2022-07-27T23:58:29.307780",
     "status": "completed"
    },
    "tags": []
   },
   "source": [
    "# Introduction\n",
    "\n",
    "Run the following cell to load your data and some utility functions."
   ]
  },
  {
   "cell_type": "code",
   "execution_count": 1,
   "id": "fc647c4e",
   "metadata": {
    "execution": {
     "iopub.execute_input": "2022-07-27T23:58:29.326737Z",
     "iopub.status.busy": "2022-07-27T23:58:29.325428Z",
     "iopub.status.idle": "2022-07-27T23:58:32.750335Z",
     "shell.execute_reply": "2022-07-27T23:58:32.749012Z"
    },
    "papermill": {
     "duration": 3.435363,
     "end_time": "2022-07-27T23:58:32.753389",
     "exception": false,
     "start_time": "2022-07-27T23:58:29.318026",
     "status": "completed"
    },
    "tags": []
   },
   "outputs": [
    {
     "name": "stdout",
     "output_type": "stream",
     "text": [
      "Setup complete.\n"
     ]
    }
   ],
   "source": [
    "import pandas as pd\n",
    "\n",
    "reviews = pd.read_csv(\"../input/wine-reviews/winemag-data-130k-v2.csv\", index_col=0)\n",
    "\n",
    "from learntools.core import binder; binder.bind(globals())\n",
    "from learntools.pandas.data_types_and_missing_data import *\n",
    "print(\"Setup complete.\")"
   ]
  },
  {
   "cell_type": "markdown",
   "id": "d0e2a798",
   "metadata": {
    "papermill": {
     "duration": 0.005526,
     "end_time": "2022-07-27T23:58:32.764844",
     "exception": false,
     "start_time": "2022-07-27T23:58:32.759318",
     "status": "completed"
    },
    "tags": []
   },
   "source": [
    "# Exercises"
   ]
  },
  {
   "cell_type": "markdown",
   "id": "e3795969",
   "metadata": {
    "papermill": {
     "duration": 0.00535,
     "end_time": "2022-07-27T23:58:32.776192",
     "exception": false,
     "start_time": "2022-07-27T23:58:32.770842",
     "status": "completed"
    },
    "tags": []
   },
   "source": [
    "## 1. \n",
    "What is the data type of the `points` column in the dataset?"
   ]
  },
  {
   "cell_type": "code",
   "execution_count": 2,
   "id": "6737ad8a",
   "metadata": {
    "execution": {
     "iopub.execute_input": "2022-07-27T23:58:32.789818Z",
     "iopub.status.busy": "2022-07-27T23:58:32.789348Z",
     "iopub.status.idle": "2022-07-27T23:58:32.802829Z",
     "shell.execute_reply": "2022-07-27T23:58:32.801469Z"
    },
    "papermill": {
     "duration": 0.023192,
     "end_time": "2022-07-27T23:58:32.805211",
     "exception": false,
     "start_time": "2022-07-27T23:58:32.782019",
     "status": "completed"
    },
    "tags": []
   },
   "outputs": [
    {
     "data": {
      "application/javascript": [
       "parent.postMessage({\"jupyterEvent\": \"custom.exercise_interaction\", \"data\": {\"outcomeType\": 1, \"valueTowardsCompletion\": 0.25, \"interactionType\": 1, \"questionType\": 1, \"questionId\": \"1_PointsDtype\", \"learnToolsVersion\": \"0.3.4\", \"failureMessage\": \"\", \"exceptionClass\": \"\", \"trace\": \"\"}}, \"*\")"
      ],
      "text/plain": [
       "<IPython.core.display.Javascript object>"
      ]
     },
     "metadata": {},
     "output_type": "display_data"
    },
    {
     "data": {
      "text/markdown": [
       "<span style=\"color:#33cc33\">Correct</span>"
      ],
      "text/plain": [
       "Correct"
      ]
     },
     "metadata": {},
     "output_type": "display_data"
    }
   ],
   "source": [
    "# Your code here\n",
    "dtype = reviews.points.dtype\n",
    "\n",
    "# Check your answer\n",
    "q1.check()"
   ]
  },
  {
   "cell_type": "code",
   "execution_count": 3,
   "id": "21846033",
   "metadata": {
    "execution": {
     "iopub.execute_input": "2022-07-27T23:58:32.820334Z",
     "iopub.status.busy": "2022-07-27T23:58:32.819476Z",
     "iopub.status.idle": "2022-07-27T23:58:32.823667Z",
     "shell.execute_reply": "2022-07-27T23:58:32.822791Z"
    },
    "papermill": {
     "duration": 0.014327,
     "end_time": "2022-07-27T23:58:32.825835",
     "exception": false,
     "start_time": "2022-07-27T23:58:32.811508",
     "status": "completed"
    },
    "tags": []
   },
   "outputs": [],
   "source": [
    "#q1.hint()\n",
    "#q1.solution()"
   ]
  },
  {
   "cell_type": "markdown",
   "id": "ee830dbf",
   "metadata": {
    "papermill": {
     "duration": 0.005883,
     "end_time": "2022-07-27T23:58:32.838142",
     "exception": false,
     "start_time": "2022-07-27T23:58:32.832259",
     "status": "completed"
    },
    "tags": []
   },
   "source": [
    "## 2. \n",
    "Create a Series from entries in the `points` column, but convert the entries to strings. Hint: strings are `str` in native Python."
   ]
  },
  {
   "cell_type": "code",
   "execution_count": 4,
   "id": "0990670f",
   "metadata": {
    "execution": {
     "iopub.execute_input": "2022-07-27T23:58:32.852709Z",
     "iopub.status.busy": "2022-07-27T23:58:32.851818Z",
     "iopub.status.idle": "2022-07-27T23:58:32.995350Z",
     "shell.execute_reply": "2022-07-27T23:58:32.993866Z"
    },
    "papermill": {
     "duration": 0.15366,
     "end_time": "2022-07-27T23:58:32.997910",
     "exception": false,
     "start_time": "2022-07-27T23:58:32.844250",
     "status": "completed"
    },
    "tags": []
   },
   "outputs": [
    {
     "data": {
      "application/javascript": [
       "parent.postMessage({\"jupyterEvent\": \"custom.exercise_interaction\", \"data\": {\"outcomeType\": 1, \"valueTowardsCompletion\": 0.25, \"interactionType\": 1, \"questionType\": 1, \"questionId\": \"2_StrPoints\", \"learnToolsVersion\": \"0.3.4\", \"failureMessage\": \"\", \"exceptionClass\": \"\", \"trace\": \"\"}}, \"*\")"
      ],
      "text/plain": [
       "<IPython.core.display.Javascript object>"
      ]
     },
     "metadata": {},
     "output_type": "display_data"
    },
    {
     "data": {
      "text/markdown": [
       "<span style=\"color:#33cc33\">Correct</span>"
      ],
      "text/plain": [
       "Correct"
      ]
     },
     "metadata": {},
     "output_type": "display_data"
    }
   ],
   "source": [
    "point_strings = reviews.points.astype(\"str\")\n",
    "\n",
    "# Check your answer\n",
    "q2.check()"
   ]
  },
  {
   "cell_type": "code",
   "execution_count": 5,
   "id": "fc06ca94",
   "metadata": {
    "execution": {
     "iopub.execute_input": "2022-07-27T23:58:33.012281Z",
     "iopub.status.busy": "2022-07-27T23:58:33.011827Z",
     "iopub.status.idle": "2022-07-27T23:58:33.016638Z",
     "shell.execute_reply": "2022-07-27T23:58:33.015560Z"
    },
    "papermill": {
     "duration": 0.01507,
     "end_time": "2022-07-27T23:58:33.019119",
     "exception": false,
     "start_time": "2022-07-27T23:58:33.004049",
     "status": "completed"
    },
    "tags": []
   },
   "outputs": [],
   "source": [
    "#q2.hint()\n",
    "#q2.solution()"
   ]
  },
  {
   "cell_type": "code",
   "execution_count": 6,
   "id": "ae646f16",
   "metadata": {
    "execution": {
     "iopub.execute_input": "2022-07-27T23:58:33.033478Z",
     "iopub.status.busy": "2022-07-27T23:58:33.033026Z",
     "iopub.status.idle": "2022-07-27T23:58:33.044316Z",
     "shell.execute_reply": "2022-07-27T23:58:33.043085Z"
    },
    "papermill": {
     "duration": 0.02145,
     "end_time": "2022-07-27T23:58:33.046871",
     "exception": false,
     "start_time": "2022-07-27T23:58:33.025421",
     "status": "completed"
    },
    "tags": []
   },
   "outputs": [
    {
     "data": {
      "text/plain": [
       "0          True\n",
       "1         False\n",
       "2         False\n",
       "3         False\n",
       "4         False\n",
       "          ...  \n",
       "129966    False\n",
       "129967    False\n",
       "129968    False\n",
       "129969    False\n",
       "129970    False\n",
       "Name: price, Length: 129971, dtype: bool"
      ]
     },
     "execution_count": 6,
     "metadata": {},
     "output_type": "execute_result"
    }
   ],
   "source": [
    "pd.isnull(reviews.price)"
   ]
  },
  {
   "cell_type": "markdown",
   "id": "75ee1a7f",
   "metadata": {
    "papermill": {
     "duration": 0.006102,
     "end_time": "2022-07-27T23:58:33.059438",
     "exception": false,
     "start_time": "2022-07-27T23:58:33.053336",
     "status": "completed"
    },
    "tags": []
   },
   "source": [
    "## 3.\n",
    "Sometimes the price column is null. How many reviews in the dataset are missing a price?"
   ]
  },
  {
   "cell_type": "code",
   "execution_count": 7,
   "id": "68d97eb5",
   "metadata": {
    "execution": {
     "iopub.execute_input": "2022-07-27T23:58:33.074366Z",
     "iopub.status.busy": "2022-07-27T23:58:33.073876Z",
     "iopub.status.idle": "2022-07-27T23:58:33.085035Z",
     "shell.execute_reply": "2022-07-27T23:58:33.083754Z"
    },
    "papermill": {
     "duration": 0.021463,
     "end_time": "2022-07-27T23:58:33.087326",
     "exception": false,
     "start_time": "2022-07-27T23:58:33.065863",
     "status": "completed"
    },
    "tags": []
   },
   "outputs": [
    {
     "data": {
      "application/javascript": [
       "parent.postMessage({\"jupyterEvent\": \"custom.exercise_interaction\", \"data\": {\"outcomeType\": 1, \"valueTowardsCompletion\": 0.25, \"interactionType\": 1, \"questionType\": 1, \"questionId\": \"3_CountMissingPrices\", \"learnToolsVersion\": \"0.3.4\", \"failureMessage\": \"\", \"exceptionClass\": \"\", \"trace\": \"\"}}, \"*\")"
      ],
      "text/plain": [
       "<IPython.core.display.Javascript object>"
      ]
     },
     "metadata": {},
     "output_type": "display_data"
    },
    {
     "data": {
      "text/markdown": [
       "<span style=\"color:#33cc33\">Correct</span>"
      ],
      "text/plain": [
       "Correct"
      ]
     },
     "metadata": {},
     "output_type": "display_data"
    }
   ],
   "source": [
    "n_missing_prices = pd.isnull(reviews.price).sum()\n",
    "\n",
    "# Check your answer\n",
    "q3.check()"
   ]
  },
  {
   "cell_type": "code",
   "execution_count": 8,
   "id": "9257bb31",
   "metadata": {
    "execution": {
     "iopub.execute_input": "2022-07-27T23:58:33.102880Z",
     "iopub.status.busy": "2022-07-27T23:58:33.102428Z",
     "iopub.status.idle": "2022-07-27T23:58:33.111876Z",
     "shell.execute_reply": "2022-07-27T23:58:33.110733Z"
    },
    "papermill": {
     "duration": 0.020038,
     "end_time": "2022-07-27T23:58:33.113985",
     "exception": false,
     "start_time": "2022-07-27T23:58:33.093947",
     "status": "completed"
    },
    "tags": []
   },
   "outputs": [
    {
     "data": {
      "application/javascript": [
       "parent.postMessage({\"jupyterEvent\": \"custom.exercise_interaction\", \"data\": {\"interactionType\": 3, \"questionType\": 1, \"questionId\": \"3_CountMissingPrices\", \"learnToolsVersion\": \"0.3.4\", \"valueTowardsCompletion\": 0.0, \"failureMessage\": \"\", \"exceptionClass\": \"\", \"trace\": \"\", \"outcomeType\": 4}}, \"*\")"
      ],
      "text/plain": [
       "<IPython.core.display.Javascript object>"
      ]
     },
     "metadata": {},
     "output_type": "display_data"
    },
    {
     "data": {
      "text/markdown": [
       "<span style=\"color:#33cc99\">Solution:</span> \n",
       "```python\n",
       "missing_price_reviews = reviews[reviews.price.isnull()]\n",
       "n_missing_prices = len(missing_price_reviews)\n",
       "# Cute alternative solution: if we sum a boolean series, True is treated as 1 and False as 0\n",
       "n_missing_prices = reviews.price.isnull().sum()\n",
       "# or equivalently:\n",
       "n_missing_prices = pd.isnull(reviews.price).sum()\n",
       "\n",
       "```"
      ],
      "text/plain": [
       "Solution: \n",
       "```python\n",
       "missing_price_reviews = reviews[reviews.price.isnull()]\n",
       "n_missing_prices = len(missing_price_reviews)\n",
       "# Cute alternative solution: if we sum a boolean series, True is treated as 1 and False as 0\n",
       "n_missing_prices = reviews.price.isnull().sum()\n",
       "# or equivalently:\n",
       "n_missing_prices = pd.isnull(reviews.price).sum()\n",
       "\n",
       "```"
      ]
     },
     "metadata": {},
     "output_type": "display_data"
    }
   ],
   "source": [
    "#q3.hint()\n",
    "q3.solution()"
   ]
  },
  {
   "cell_type": "markdown",
   "id": "f8310948",
   "metadata": {
    "papermill": {
     "duration": 0.006684,
     "end_time": "2022-07-27T23:58:33.127652",
     "exception": false,
     "start_time": "2022-07-27T23:58:33.120968",
     "status": "completed"
    },
    "tags": []
   },
   "source": [
    "## 4.\n",
    "What are the most common wine-producing regions? Create a Series counting the number of times each value occurs in the `region_1` field. This field is often missing data, so replace missing values with `Unknown`. Sort in descending order.  Your output should look something like this:\n",
    "\n",
    "```\n",
    "Unknown                    21247\n",
    "Napa Valley                 4480\n",
    "                           ...  \n",
    "Bardolino Superiore            1\n",
    "Primitivo del Tarantino        1\n",
    "Name: region_1, Length: 1230, dtype: int64\n",
    "```"
   ]
  },
  {
   "cell_type": "code",
   "execution_count": 9,
   "id": "060aaf8e",
   "metadata": {
    "execution": {
     "iopub.execute_input": "2022-07-27T23:58:33.144643Z",
     "iopub.status.busy": "2022-07-27T23:58:33.144137Z",
     "iopub.status.idle": "2022-07-27T23:58:33.224027Z",
     "shell.execute_reply": "2022-07-27T23:58:33.222685Z"
    },
    "papermill": {
     "duration": 0.092182,
     "end_time": "2022-07-27T23:58:33.226702",
     "exception": false,
     "start_time": "2022-07-27T23:58:33.134520",
     "status": "completed"
    },
    "tags": []
   },
   "outputs": [
    {
     "data": {
      "application/javascript": [
       "parent.postMessage({\"jupyterEvent\": \"custom.exercise_interaction\", \"data\": {\"outcomeType\": 1, \"valueTowardsCompletion\": 0.25, \"interactionType\": 1, \"questionType\": 2, \"questionId\": \"4_ReviewsPerRegion\", \"learnToolsVersion\": \"0.3.4\", \"failureMessage\": \"\", \"exceptionClass\": \"\", \"trace\": \"\"}}, \"*\")"
      ],
      "text/plain": [
       "<IPython.core.display.Javascript object>"
      ]
     },
     "metadata": {},
     "output_type": "display_data"
    },
    {
     "data": {
      "text/markdown": [
       "<span style=\"color:#33cc33\">Correct</span>"
      ],
      "text/plain": [
       "Correct"
      ]
     },
     "metadata": {},
     "output_type": "display_data"
    }
   ],
   "source": [
    "\n",
    "reviews_per_region =  reviews.region_1.fillna('Unknown').value_counts().sort_values(ascending=False)\n",
    "\n",
    "# Check your answer\n",
    "q4.check()"
   ]
  },
  {
   "cell_type": "code",
   "execution_count": 10,
   "id": "e7c1731e",
   "metadata": {
    "execution": {
     "iopub.execute_input": "2022-07-27T23:58:33.243229Z",
     "iopub.status.busy": "2022-07-27T23:58:33.242727Z",
     "iopub.status.idle": "2022-07-27T23:58:33.290970Z",
     "shell.execute_reply": "2022-07-27T23:58:33.289820Z"
    },
    "papermill": {
     "duration": 0.059911,
     "end_time": "2022-07-27T23:58:33.293777",
     "exception": false,
     "start_time": "2022-07-27T23:58:33.233866",
     "status": "completed"
    },
    "tags": []
   },
   "outputs": [
    {
     "data": {
      "text/plain": [
       "Unknown                    21247\n",
       "Napa Valley                 4480\n",
       "Columbia Valley (WA)        4124\n",
       "Russian River Valley        3091\n",
       "California                  2629\n",
       "                           ...  \n",
       "Lamezia                        1\n",
       "Trentino Superiore             1\n",
       "Grave del Friuli               1\n",
       "Vin Santo di Carmignano        1\n",
       "Paestum                        1\n",
       "Name: region_1, Length: 1230, dtype: int64"
      ]
     },
     "execution_count": 10,
     "metadata": {},
     "output_type": "execute_result"
    }
   ],
   "source": [
    "reviews.region_1.fillna('Unknown').value_counts()"
   ]
  },
  {
   "cell_type": "code",
   "execution_count": 11,
   "id": "015624a5",
   "metadata": {
    "execution": {
     "iopub.execute_input": "2022-07-27T23:58:33.310816Z",
     "iopub.status.busy": "2022-07-27T23:58:33.310376Z",
     "iopub.status.idle": "2022-07-27T23:58:33.320059Z",
     "shell.execute_reply": "2022-07-27T23:58:33.318906Z"
    },
    "papermill": {
     "duration": 0.021002,
     "end_time": "2022-07-27T23:58:33.322400",
     "exception": false,
     "start_time": "2022-07-27T23:58:33.301398",
     "status": "completed"
    },
    "tags": []
   },
   "outputs": [
    {
     "data": {
      "application/javascript": [
       "parent.postMessage({\"jupyterEvent\": \"custom.exercise_interaction\", \"data\": {\"interactionType\": 3, \"questionType\": 2, \"questionId\": \"4_ReviewsPerRegion\", \"learnToolsVersion\": \"0.3.4\", \"valueTowardsCompletion\": 0.0, \"failureMessage\": \"\", \"exceptionClass\": \"\", \"trace\": \"\", \"outcomeType\": 4}}, \"*\")"
      ],
      "text/plain": [
       "<IPython.core.display.Javascript object>"
      ]
     },
     "metadata": {},
     "output_type": "display_data"
    },
    {
     "data": {
      "text/markdown": [
       "<span style=\"color:#33cc99\">Solution:</span> \n",
       "```python\n",
       "reviews_per_region = reviews.region_1.fillna('Unknown').value_counts().sort_values(ascending=False)\n",
       "```"
      ],
      "text/plain": [
       "Solution: \n",
       "```python\n",
       "reviews_per_region = reviews.region_1.fillna('Unknown').value_counts().sort_values(ascending=False)\n",
       "```"
      ]
     },
     "metadata": {},
     "output_type": "display_data"
    }
   ],
   "source": [
    "#q4.hint()\n",
    "q4.solution()"
   ]
  },
  {
   "cell_type": "markdown",
   "id": "54454ad8",
   "metadata": {
    "papermill": {
     "duration": 0.007288,
     "end_time": "2022-07-27T23:58:33.337916",
     "exception": false,
     "start_time": "2022-07-27T23:58:33.330628",
     "status": "completed"
    },
    "tags": []
   },
   "source": [
    "# Keep going\n",
    "\n",
    "Move on to **[renaming and combining](https://www.kaggle.com/residentmario/renaming-and-combining)**."
   ]
  },
  {
   "cell_type": "markdown",
   "id": "9909a34a",
   "metadata": {
    "papermill": {
     "duration": 0.006911,
     "end_time": "2022-07-27T23:58:33.352267",
     "exception": false,
     "start_time": "2022-07-27T23:58:33.345356",
     "status": "completed"
    },
    "tags": []
   },
   "source": [
    "---\n",
    "\n",
    "\n",
    "\n",
    "\n",
    "*Have questions or comments? Visit the [course discussion forum](https://www.kaggle.com/learn/pandas/discussion) to chat with other learners.*"
   ]
  }
 ],
 "metadata": {
  "kernelspec": {
   "display_name": "Python 3",
   "language": "python",
   "name": "python3"
  },
  "language_info": {
   "codemirror_mode": {
    "name": "ipython",
    "version": 3
   },
   "file_extension": ".py",
   "mimetype": "text/x-python",
   "name": "python",
   "nbconvert_exporter": "python",
   "pygments_lexer": "ipython3",
   "version": "3.7.12"
  },
  "papermill": {
   "default_parameters": {},
   "duration": 15.824814,
   "end_time": "2022-07-27T23:58:34.384208",
   "environment_variables": {},
   "exception": null,
   "input_path": "__notebook__.ipynb",
   "output_path": "__notebook__.ipynb",
   "parameters": {},
   "start_time": "2022-07-27T23:58:18.559394",
   "version": "2.3.4"
  }
 },
 "nbformat": 4,
 "nbformat_minor": 5
}
